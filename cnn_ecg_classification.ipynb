{
  "metadata": {
    "kernelspec": {
      "language": "python",
      "display_name": "Python 3",
      "name": "python3"
    },
    "language_info": {
      "pygments_lexer": "ipython3",
      "nbconvert_exporter": "python",
      "version": "3.6.4",
      "file_extension": ".py",
      "codemirror_mode": {
        "name": "ipython",
        "version": 3
      },
      "name": "python",
      "mimetype": "text/x-python"
    },
    "kaggle": {
      "accelerator": "gpu",
      "dataSources": [
        {
          "sourceId": 37484,
          "sourceType": "datasetVersion",
          "datasetId": 29414
        }
      ],
      "dockerImageVersionId": 30120,
      "isInternetEnabled": false,
      "language": "python",
      "sourceType": "notebook",
      "isGpuEnabled": true
    },
    "colab": {
      "name": "cnn_ecg_classification",
      "provenance": [],
      "include_colab_link": true
    }
  },
  "nbformat_minor": 0,
  "nbformat": 4,
  "cells": [
    {
      "cell_type": "markdown",
      "metadata": {
        "id": "view-in-github",
        "colab_type": "text"
      },
      "source": [
        "<a href=\"https://colab.research.google.com/github/salmakhale/DL-computer-vision/blob/main/cnn_ecg_classification.ipynb\" target=\"_parent\"><img src=\"https://colab.research.google.com/assets/colab-badge.svg\" alt=\"Open In Colab\"/></a>"
      ]
    },
    {
      "source": [
        "import kagglehub\n",
        "shayanfazeli_heartbeat_path = kagglehub.dataset_download('shayanfazeli/heartbeat')\n",
        "\n",
        "print('Data source import complete.')\n"
      ],
      "metadata": {
        "id": "-UEtjy8rpyaF"
      },
      "cell_type": "code",
      "outputs": [],
      "execution_count": null
    },
    {
      "cell_type": "markdown",
      "source": [
        "## ECG Heartbeat Classification Datset\n",
        "This notebook involves the making of machine learning models to classify the given data of obtained as an heartbeat ECG into differen classes. We'll undergo machine learning processes to classify them. AS given in the dataset,  we are given 5 different classes of heartbeat as [N:0, S:1, V:2 , F:3, Q:4]\n",
        "* N: Non-Ectopic Beats\n",
        "* S: Superventrical Ectopic Beats\n",
        "* V: Ventricular Ectopic Beats\n",
        "* F: Fusion Beats\n",
        "* Q: Unknown Beats\n",
        "\n",
        "The **CNN Algotithm** that we'll implement will classigy the given heartbeat into one of these classes"
      ],
      "metadata": {
        "_uuid": "8f2839f25d086af736a60e9eeb907d3b93b6e0e5",
        "_cell_guid": "b1076dfc-b9ad-4769-8c92-a6c4dae69d19",
        "execution": {
          "iopub.status.busy": "2021-09-08T13:01:58.471454Z",
          "iopub.execute_input": "2021-09-08T13:01:58.471843Z",
          "iopub.status.idle": "2021-09-08T13:01:58.478967Z",
          "shell.execute_reply.started": "2021-09-08T13:01:58.47181Z",
          "shell.execute_reply": "2021-09-08T13:01:58.478119Z"
        },
        "id": "-NDRtxdZpyaF"
      }
    },
    {
      "cell_type": "code",
      "source": [
        "# importing libraries\n",
        "import numpy as np\n",
        "import pandas as pd\n",
        "import os, tqdm, re, time, itertools, sys\n",
        "import seaborn as sns\n",
        "from sklearn.model_selection import train_test_split\n",
        "from sklearn.svm import SVC\n",
        "from sklearn.ensemble import RandomForestClassifier, ExtraTreesClassifier\n",
        "from sklearn.metrics import accuracy_score, classification_report, confusion_matrix, plot_confusion_matrix\n",
        "from keras.layers import Conv2D, Conv1D, MaxPooling2D, MaxPooling1D, Flatten, BatchNormalization, Dense\n",
        "from keras.utils.np_utils import to_categorical\n",
        "from keras.models import Sequential\n",
        "from keras.callbacks import CSVLogger, ModelCheckpoint\n",
        "import matplotlib.pyplot as plt"
      ],
      "metadata": {
        "trusted": true,
        "id": "K-bEGuvEpyaG"
      },
      "outputs": [],
      "execution_count": null
    },
    {
      "cell_type": "code",
      "source": [
        "import warnings\n",
        "warnings.filterwarnings('ignore')"
      ],
      "metadata": {
        "trusted": true,
        "id": "2Iwe3YInpyaG"
      },
      "outputs": [],
      "execution_count": null
    },
    {
      "cell_type": "markdown",
      "source": [
        "## Loading the Data\n",
        "The first step is to load the data in our memory. We'll load all data provided to us in our notebook, and then start the machine learning process"
      ],
      "metadata": {
        "id": "nDje2RMspyaH"
      }
    },
    {
      "cell_type": "code",
      "source": [
        "# loading all data files into memory\n",
        "start = time.time()\n",
        "\n",
        "data_train = pd.read_csv('../input/heartbeat/mitbih_train.csv', header=None)\n",
        "data_test = pd.read_csv('../input/heartbeat/mitbih_test.csv', header=None)\n",
        "abnormal = pd.read_csv('../input/heartbeat/ptbdb_abnormal.csv', header=None)\n",
        "normal = pd.read_csv('../input/heartbeat/ptbdb_normal.csv', header=None)\n",
        "\n",
        "end = time.time()\n",
        "print('Time taken: %.3f seconds' % (end-start))\n",
        "\n",
        "print('Data loaded........')"
      ],
      "metadata": {
        "trusted": true,
        "id": "UDYh5Qb4pyaH"
      },
      "outputs": [],
      "execution_count": null
    },
    {
      "cell_type": "code",
      "source": [
        "normal = normal.drop([187], axis=1)\n",
        "abnormal = abnormal.drop([187], axis=1)"
      ],
      "metadata": {
        "execution": {
          "iopub.status.busy": "2021-09-17T11:26:35.032843Z",
          "iopub.execute_input": "2021-09-17T11:26:35.033371Z",
          "iopub.status.idle": "2021-09-17T11:26:35.049686Z",
          "shell.execute_reply.started": "2021-09-17T11:26:35.033331Z",
          "shell.execute_reply": "2021-09-17T11:26:35.048807Z"
        },
        "trusted": true,
        "id": "f_5bb37DpyaH"
      },
      "outputs": [],
      "execution_count": null
    },
    {
      "cell_type": "markdown",
      "source": [
        "## EDA (Exploratory Data Analysis)\n",
        "In this step, we will undergo an EDA (Exploratory Data Analysis) to get brief understanding of our data. We are given a data concerned with the ECG of a patient, classified into normal and abnormal classes. We'll make some plots to see the variations in the heart rate of a patient with normal and abnormal ECG.  "
      ],
      "metadata": {
        "id": "Aki87YbNpyaH"
      }
    },
    {
      "cell_type": "code",
      "source": [
        "data_train.isnull().sum().to_numpy()"
      ],
      "metadata": {
        "execution": {
          "iopub.status.busy": "2021-09-17T11:26:35.050964Z",
          "iopub.execute_input": "2021-09-17T11:26:35.051351Z",
          "iopub.status.idle": "2021-09-17T11:26:35.095629Z",
          "shell.execute_reply.started": "2021-09-17T11:26:35.051313Z",
          "shell.execute_reply": "2021-09-17T11:26:35.094923Z"
        },
        "trusted": true,
        "id": "9GZzbTaqpyaH"
      },
      "outputs": [],
      "execution_count": null
    },
    {
      "cell_type": "code",
      "source": [
        "# checking the dataset shape\n",
        "abnormal.shape, normal.shape"
      ],
      "metadata": {
        "execution": {
          "iopub.status.busy": "2021-09-17T11:26:35.096732Z",
          "iopub.execute_input": "2021-09-17T11:26:35.097071Z",
          "iopub.status.idle": "2021-09-17T11:26:35.103286Z",
          "shell.execute_reply.started": "2021-09-17T11:26:35.097036Z",
          "shell.execute_reply": "2021-09-17T11:26:35.102275Z"
        },
        "trusted": true,
        "id": "gOKEY8-IpyaH"
      },
      "outputs": [],
      "execution_count": null
    },
    {
      "cell_type": "markdown",
      "source": [
        "We have a total of **10506** rows and **188** columns for abormal & **4045** rows and **188** columns of a normal ECG in our data"
      ],
      "metadata": {
        "id": "S1_A81nvpyaI"
      }
    },
    {
      "cell_type": "code",
      "source": [
        "# view first 4 rows of data\n",
        "data_train.head(4)"
      ],
      "metadata": {
        "execution": {
          "iopub.status.busy": "2021-09-17T11:26:35.104687Z",
          "iopub.execute_input": "2021-09-17T11:26:35.105045Z",
          "iopub.status.idle": "2021-09-17T11:26:35.13668Z",
          "shell.execute_reply.started": "2021-09-17T11:26:35.10501Z",
          "shell.execute_reply": "2021-09-17T11:26:35.135703Z"
        },
        "trusted": true,
        "id": "uKI28S4WpyaI"
      },
      "outputs": [],
      "execution_count": null
    },
    {
      "cell_type": "markdown",
      "source": [
        "As it can be seen, the data is composed of columns (features) that contain the floating point numbers that represent the heart rate."
      ],
      "metadata": {
        "id": "KFBtHgUQpyaI"
      }
    },
    {
      "cell_type": "code",
      "source": [
        "# checking the columns\n",
        "data_train.columns"
      ],
      "metadata": {
        "execution": {
          "iopub.status.busy": "2021-09-17T11:26:35.13963Z",
          "iopub.execute_input": "2021-09-17T11:26:35.140078Z",
          "iopub.status.idle": "2021-09-17T11:26:35.145678Z",
          "shell.execute_reply.started": "2021-09-17T11:26:35.14003Z",
          "shell.execute_reply": "2021-09-17T11:26:35.144671Z"
        },
        "trusted": true,
        "id": "-cO5JHCWpyaI"
      },
      "outputs": [],
      "execution_count": null
    },
    {
      "cell_type": "code",
      "source": [
        "abnormal.shape, normal.shape"
      ],
      "metadata": {
        "execution": {
          "iopub.status.busy": "2021-09-17T11:26:35.147858Z",
          "iopub.execute_input": "2021-09-17T11:26:35.148699Z",
          "iopub.status.idle": "2021-09-17T11:26:35.155164Z",
          "shell.execute_reply.started": "2021-09-17T11:26:35.148659Z",
          "shell.execute_reply": "2021-09-17T11:26:35.15419Z"
        },
        "trusted": true,
        "id": "6eklWIUEpyaI"
      },
      "outputs": [],
      "execution_count": null
    },
    {
      "cell_type": "code",
      "source": [
        "# view first 2 rows of abnormal ECG data\n",
        "abnormal.head(2)"
      ],
      "metadata": {
        "execution": {
          "iopub.status.busy": "2021-09-17T11:26:35.156643Z",
          "iopub.execute_input": "2021-09-17T11:26:35.157288Z",
          "iopub.status.idle": "2021-09-17T11:26:35.184168Z",
          "shell.execute_reply.started": "2021-09-17T11:26:35.157254Z",
          "shell.execute_reply": "2021-09-17T11:26:35.183388Z"
        },
        "trusted": true,
        "id": "w21i7yqzpyaI"
      },
      "outputs": [],
      "execution_count": null
    },
    {
      "cell_type": "code",
      "source": [
        "# view first 2 rows of normal data|\n",
        "normal.head(2)"
      ],
      "metadata": {
        "execution": {
          "iopub.status.busy": "2021-09-17T11:26:35.185766Z",
          "iopub.execute_input": "2021-09-17T11:26:35.186283Z",
          "iopub.status.idle": "2021-09-17T11:26:35.209993Z",
          "shell.execute_reply.started": "2021-09-17T11:26:35.186248Z",
          "shell.execute_reply": "2021-09-17T11:26:35.208994Z"
        },
        "trusted": true,
        "id": "qwSTKwc9pyaI"
      },
      "outputs": [],
      "execution_count": null
    },
    {
      "cell_type": "code",
      "source": [
        "flatten_y = abnormal.values\n",
        "flatten_y = flatten_y[:, 5:70].flatten()\n",
        "flatten_y"
      ],
      "metadata": {
        "execution": {
          "iopub.status.busy": "2021-09-17T11:26:35.211382Z",
          "iopub.execute_input": "2021-09-17T11:26:35.212009Z",
          "iopub.status.idle": "2021-09-17T11:26:35.221271Z",
          "shell.execute_reply.started": "2021-09-17T11:26:35.211949Z",
          "shell.execute_reply": "2021-09-17T11:26:35.220146Z"
        },
        "trusted": true,
        "id": "T3uSX_2VpyaI"
      },
      "outputs": [],
      "execution_count": null
    },
    {
      "cell_type": "markdown",
      "source": [
        "### Data Visualization\n",
        "For better comprehension, we'll plot the data of normal and abnormal ECG rate to see how the curves look like. Given below are some plots of normal and abnormal ECG rate."
      ],
      "metadata": {
        "id": "cZdBc2SEpyaJ"
      }
    },
    {
      "cell_type": "markdown",
      "source": [
        "### Abormal ECG Visualization\n",
        "Below are some plots showing the ECG Curve of those persons who have an abnormal ECG rate"
      ],
      "metadata": {
        "id": "zcHuK4oJpyaJ"
      }
    },
    {
      "cell_type": "code",
      "source": [
        "plt.figure(figsize=(15, 3))\n",
        "plt.title('ECG Visualization of Abormal Persons')\n",
        "plt.subplot(1, 5, 1)\n",
        "plt.plot(abnormal.values[0][5:50])\n",
        "plt.subplot(1, 5, 2)\n",
        "plt.plot(abnormal.values[10][5:50])\n",
        "plt.subplot(1, 5, 3)\n",
        "plt.plot(abnormal.values[20][5:50])\n",
        "plt.subplot(1, 5, 4)\n",
        "plt.plot(abnormal.values[40][5:50])\n",
        "plt.subplot(1, 5, 5)\n",
        "plt.plot(abnormal.values[44][5:50])"
      ],
      "metadata": {
        "execution": {
          "iopub.status.busy": "2021-09-17T11:26:35.222626Z",
          "iopub.execute_input": "2021-09-17T11:26:35.223167Z",
          "iopub.status.idle": "2021-09-17T11:26:35.879715Z",
          "shell.execute_reply.started": "2021-09-17T11:26:35.223133Z",
          "shell.execute_reply": "2021-09-17T11:26:35.8787Z"
        },
        "trusted": true,
        "id": "o44L6JzspyaJ"
      },
      "outputs": [],
      "execution_count": null
    },
    {
      "cell_type": "markdown",
      "source": [
        "## Normal ECG Visualization\n",
        "Below are the graphs showing the ECG rate of normal persons"
      ],
      "metadata": {
        "id": "Or7c_s-RpyaJ"
      }
    },
    {
      "cell_type": "code",
      "source": [
        "plt.figure(figsize=(15, 3))\n",
        "plt.title('ECG Visualization of Normal Persons')\n",
        "plt.subplot(1, 5, 1)\n",
        "plt.plot(normal.values[0][5:50])\n",
        "plt.subplot(1, 5, 2)\n",
        "plt.plot(normal.values[10][5:50])\n",
        "plt.subplot(1, 5, 3)\n",
        "plt.plot(normal.values[20][5:50])\n",
        "plt.subplot(1, 5, 4)\n",
        "plt.plot(normal.values[40][5:50])\n",
        "plt.subplot(1, 5, 5)\n",
        "plt.plot(normal.values[77][5:50])"
      ],
      "metadata": {
        "execution": {
          "iopub.status.busy": "2021-09-17T11:26:35.881224Z",
          "iopub.execute_input": "2021-09-17T11:26:35.881793Z",
          "iopub.status.idle": "2021-09-17T11:26:36.404071Z",
          "shell.execute_reply.started": "2021-09-17T11:26:35.881753Z",
          "shell.execute_reply": "2021-09-17T11:26:36.403091Z"
        },
        "trusted": true,
        "id": "M_UypI2jpyaJ"
      },
      "outputs": [],
      "execution_count": null
    },
    {
      "cell_type": "code",
      "source": [
        "fig, axs = plt.subplots(4)\n",
        "fig.suptitle('Vertically stacked ECG plots of Normal People')\n",
        "axs[0].plot(normal.values[10][1:70])\n",
        "axs[1].plot(normal.values[55][1:70])\n",
        "axs[2].plot(normal.values[87][1:70])\n",
        "axs[3].plot(normal.values[98][1:70])"
      ],
      "metadata": {
        "execution": {
          "iopub.status.busy": "2021-09-17T11:26:36.405561Z",
          "iopub.execute_input": "2021-09-17T11:26:36.405917Z",
          "iopub.status.idle": "2021-09-17T11:26:36.794829Z",
          "shell.execute_reply.started": "2021-09-17T11:26:36.405879Z",
          "shell.execute_reply": "2021-09-17T11:26:36.793909Z"
        },
        "trusted": true,
        "id": "-aL7tO9gpyaK"
      },
      "outputs": [],
      "execution_count": null
    },
    {
      "cell_type": "code",
      "source": [
        "# viewing the distribution of beats in our dataset\n",
        "plt.figure(figsize=(10, 8))\n",
        "circle = plt.Circle((0, 0), 0.7, color='white')\n",
        "plt.pie(data_train[187].value_counts(), labels=['Non-Ectopic Beats', 'Superventrical Ectopic', 'Ventricular Beats',\n",
        "                                                'Unknown', 'Fusion Beats'], colors=['blue', 'magenta', 'cyan',\n",
        "                                                                                   'red', 'grey'])\n",
        "p = plt.gcf()\n",
        "p.gca().add_artist(circle)"
      ],
      "metadata": {
        "execution": {
          "iopub.status.busy": "2021-09-17T11:26:36.796265Z",
          "iopub.execute_input": "2021-09-17T11:26:36.796613Z",
          "iopub.status.idle": "2021-09-17T11:26:36.941654Z",
          "shell.execute_reply.started": "2021-09-17T11:26:36.796577Z",
          "shell.execute_reply": "2021-09-17T11:26:36.940659Z"
        },
        "trusted": true,
        "id": "LdB4cB9EpyaK"
      },
      "outputs": [],
      "execution_count": null
    },
    {
      "cell_type": "code",
      "source": [
        "sns.set_style('darkgrid')\n",
        "plt.figure(figsize=(10, 5))\n",
        "plt.plot(data_train.iloc[0, 0:187])"
      ],
      "metadata": {
        "execution": {
          "iopub.status.busy": "2021-09-17T11:26:36.943074Z",
          "iopub.execute_input": "2021-09-17T11:26:36.943555Z",
          "iopub.status.idle": "2021-09-17T11:26:37.140979Z",
          "shell.execute_reply.started": "2021-09-17T11:26:36.943516Z",
          "shell.execute_reply": "2021-09-17T11:26:37.140271Z"
        },
        "trusted": true,
        "id": "ZnX7SRnnpyaK"
      },
      "outputs": [],
      "execution_count": null
    },
    {
      "cell_type": "markdown",
      "source": [
        "## Conclusion:\n",
        "We can conclude from above figures that the persons having normal ECG rate, the figures are following a **bell-curve** pattern. The ECG of abnormal persons show othe types of curves. We'll use this information to make our machine learning model for classification."
      ],
      "metadata": {
        "id": "n3A_02WYpyaK"
      }
    },
    {
      "cell_type": "markdown",
      "source": [
        "## Data Preprocessing\n",
        "At this stage, we'll undergo some data preprocessing process to see if the data needs to be cleaned. Cleaned data is requried for model fitting in next phases."
      ],
      "metadata": {
        "id": "9uVGc-uYpyaK"
      }
    },
    {
      "cell_type": "code",
      "source": [
        "# making the class labels for our dataset\n",
        "data_1 = data_train[data_train[187] == 1]\n",
        "data_2 = data_train[data_train[187] == 2]\n",
        "data_3 = data_train[data_train[187] == 3]\n",
        "data_4 = data_train[data_train[187] == 4]\n",
        "\n",
        "sns.set_style('darkgrid')\n",
        "plt.figure(figsize=(10, 5))\n",
        "plt.plot(data_train.iloc[0, 0:187], color='green', label='Normal Heartbeats')\n",
        "plt.plot(data_1.iloc[0, 0:187], color='blue', label='Supraventricular Heartbeats')\n",
        "plt.xlabel('Time')\n",
        "plt.ylabel('Amplitude')\n",
        "plt.legend()"
      ],
      "metadata": {
        "execution": {
          "iopub.status.busy": "2021-09-17T11:26:37.142149Z",
          "iopub.execute_input": "2021-09-17T11:26:37.142473Z",
          "iopub.status.idle": "2021-09-17T11:26:37.393353Z",
          "shell.execute_reply.started": "2021-09-17T11:26:37.142438Z",
          "shell.execute_reply": "2021-09-17T11:26:37.392606Z"
        },
        "trusted": true,
        "id": "REYxCPjupyaK"
      },
      "outputs": [],
      "execution_count": null
    },
    {
      "cell_type": "code",
      "source": [
        "sns.set_style('darkgrid')\n",
        "plt.figure(figsize=(10, 5))\n",
        "plt.plot(data_train.iloc[0, 0:187], color='red', label='Normal Heartbeats')\n",
        "plt.plot(data_4.iloc[0, 0:187], color='grey', label='Unknown Heartbeats')\n",
        "plt.xlabel('Time')\n",
        "plt.ylabel('Amplitude')\n",
        "plt.legend()"
      ],
      "metadata": {
        "execution": {
          "iopub.status.busy": "2021-09-17T11:26:37.394588Z",
          "iopub.execute_input": "2021-09-17T11:26:37.394908Z",
          "iopub.status.idle": "2021-09-17T11:26:37.62258Z",
          "shell.execute_reply.started": "2021-09-17T11:26:37.394873Z",
          "shell.execute_reply": "2021-09-17T11:26:37.621687Z"
        },
        "trusted": true,
        "id": "pUl71zFjpyaL"
      },
      "outputs": [],
      "execution_count": null
    },
    {
      "cell_type": "code",
      "source": [
        "y_abnormal = np.ones(abnormal.shape[0])\n",
        "y_abnormal = pd.DataFrame(y_abnormal)\n",
        "\n",
        "y_normal = np.zeros(normal.shape[0])\n",
        "y_normal = pd.DataFrame(y_normal)\n",
        "\n",
        "# merging the original dataframe\n",
        "X = pd.concat([abnormal, normal], sort=True)\n",
        "y = pd.concat([y_abnormal, y_normal], sort=True)"
      ],
      "metadata": {
        "execution": {
          "iopub.status.busy": "2021-09-17T11:26:37.623835Z",
          "iopub.execute_input": "2021-09-17T11:26:37.624206Z",
          "iopub.status.idle": "2021-09-17T11:26:37.640495Z",
          "shell.execute_reply.started": "2021-09-17T11:26:37.624169Z",
          "shell.execute_reply": "2021-09-17T11:26:37.639604Z"
        },
        "trusted": true,
        "id": "VPYoxx51pyaL"
      },
      "outputs": [],
      "execution_count": null
    },
    {
      "cell_type": "code",
      "source": [
        "print(X.shape)\n",
        "print(y.shape)"
      ],
      "metadata": {
        "execution": {
          "iopub.status.busy": "2021-09-17T11:26:37.641705Z",
          "iopub.execute_input": "2021-09-17T11:26:37.642063Z",
          "iopub.status.idle": "2021-09-17T11:26:37.646957Z",
          "shell.execute_reply.started": "2021-09-17T11:26:37.642026Z",
          "shell.execute_reply": "2021-09-17T11:26:37.645997Z"
        },
        "trusted": true,
        "id": "AeLkrnWwpyaL"
      },
      "outputs": [],
      "execution_count": null
    },
    {
      "cell_type": "code",
      "source": [
        "# checking if there are some null values in data\n",
        "normal.isnull().sum().to_numpy()"
      ],
      "metadata": {
        "execution": {
          "iopub.status.busy": "2021-09-17T11:26:37.648478Z",
          "iopub.execute_input": "2021-09-17T11:26:37.64886Z",
          "iopub.status.idle": "2021-09-17T11:26:37.661846Z",
          "shell.execute_reply.started": "2021-09-17T11:26:37.648823Z",
          "shell.execute_reply": "2021-09-17T11:26:37.660946Z"
        },
        "trusted": true,
        "id": "tXvfqibvpyaL"
      },
      "outputs": [],
      "execution_count": null
    },
    {
      "cell_type": "code",
      "source": [
        "# checking if there are some null values in abnormal patient data\n",
        "abnormal.isnull().sum().to_numpy()"
      ],
      "metadata": {
        "execution": {
          "iopub.status.busy": "2021-09-17T11:26:37.665957Z",
          "iopub.execute_input": "2021-09-17T11:26:37.666224Z",
          "iopub.status.idle": "2021-09-17T11:26:37.678741Z",
          "shell.execute_reply.started": "2021-09-17T11:26:37.6662Z",
          "shell.execute_reply": "2021-09-17T11:26:37.677858Z"
        },
        "trusted": true,
        "id": "7_gRhrdppyaM"
      },
      "outputs": [],
      "execution_count": null
    },
    {
      "cell_type": "markdown",
      "source": [
        "The output of above cell shows that there are no null values in our data, and the data can now be used for model fitting. We have two types of datasets, normal and abnormal, and they'll be used for model fitting.  "
      ],
      "metadata": {
        "id": "hdaEH-M3pyaM"
      }
    },
    {
      "cell_type": "markdown",
      "source": [
        "## Data Argumentation\n",
        "Since our data in biased, we need to use data argumentation on it so that we can remove bias from data and make equal distributions."
      ],
      "metadata": {
        "id": "q89BQK1YpyaM"
      }
    },
    {
      "cell_type": "code",
      "source": [
        "from sklearn.utils import resample\n",
        "data_1_resample = resample(data_1, n_samples=20000,\n",
        "                           random_state=123, replace=True)\n",
        "data_2_resample = resample(data_2, n_samples=20000,\n",
        "                           random_state=123, replace=True)\n",
        "data_3_resample = resample(data_3, n_samples=20000,\n",
        "                           random_state=123, replace=True)\n",
        "data_4_resample = resample(data_4, n_samples=20000,\n",
        "                           random_state=123, replace=True)\n",
        "data_0 = data_train[data_train[187] == 0].sample(n=20000, random_state=123)"
      ],
      "metadata": {
        "execution": {
          "iopub.status.busy": "2021-09-17T11:26:37.680899Z",
          "iopub.execute_input": "2021-09-17T11:26:37.681251Z",
          "iopub.status.idle": "2021-09-17T11:26:37.83302Z",
          "shell.execute_reply.started": "2021-09-17T11:26:37.681217Z",
          "shell.execute_reply": "2021-09-17T11:26:37.832059Z"
        },
        "trusted": true,
        "id": "zhM4USYmpyaM"
      },
      "outputs": [],
      "execution_count": null
    },
    {
      "cell_type": "code",
      "source": [
        "train_dataset = pd.concat([data_0, data_1_resample, data_2_resample, data_3_resample,\n",
        "                          data_4_resample])"
      ],
      "metadata": {
        "execution": {
          "iopub.status.busy": "2021-09-17T11:26:37.834471Z",
          "iopub.execute_input": "2021-09-17T11:26:37.834845Z",
          "iopub.status.idle": "2021-09-17T11:26:37.896825Z",
          "shell.execute_reply.started": "2021-09-17T11:26:37.834807Z",
          "shell.execute_reply": "2021-09-17T11:26:37.895925Z"
        },
        "trusted": true,
        "id": "Jz3CJbjCpyaM"
      },
      "outputs": [],
      "execution_count": null
    },
    {
      "cell_type": "code",
      "source": [
        "# viewing the distribution of beats in our dataset\n",
        "plt.figure(figsize=(10, 8))\n",
        "circle = plt.Circle((0, 0), 0.7, color='white')\n",
        "plt.pie(train_dataset[187].value_counts(), labels=['Non-Ectopic Beats', 'Superventrical Ectopic', 'Ventricular Beats',\n",
        "                                                'Unknown', 'Fusion Beats'], colors=['blue', 'magenta', 'cyan',\n",
        "                                                                                   'red', 'grey'])\n",
        "p = plt.gcf()\n",
        "p.gca().add_artist(circle)"
      ],
      "metadata": {
        "execution": {
          "iopub.status.busy": "2021-09-17T11:26:37.898227Z",
          "iopub.execute_input": "2021-09-17T11:26:37.898605Z",
          "iopub.status.idle": "2021-09-17T11:26:38.014332Z",
          "shell.execute_reply.started": "2021-09-17T11:26:37.898568Z",
          "shell.execute_reply": "2021-09-17T11:26:38.013425Z"
        },
        "trusted": true,
        "id": "0oNOQ4_cpyaM"
      },
      "outputs": [],
      "execution_count": null
    },
    {
      "cell_type": "markdown",
      "source": [
        "## Making X & Y Variables"
      ],
      "metadata": {
        "id": "cAwkk6z8pyaS"
      }
    },
    {
      "cell_type": "code",
      "source": [
        "target_train = train_dataset[187]\n",
        "target_test = data_test[187]\n",
        "target_train.unique()"
      ],
      "metadata": {
        "execution": {
          "iopub.status.busy": "2021-09-17T11:26:38.015657Z",
          "iopub.execute_input": "2021-09-17T11:26:38.016021Z",
          "iopub.status.idle": "2021-09-17T11:26:38.026244Z",
          "shell.execute_reply.started": "2021-09-17T11:26:38.015986Z",
          "shell.execute_reply": "2021-09-17T11:26:38.025122Z"
        },
        "trusted": true,
        "id": "T41G89LNpyaS"
      },
      "outputs": [],
      "execution_count": null
    },
    {
      "cell_type": "code",
      "source": [
        "y_train = to_categorical(target_train)\n",
        "y_test = to_categorical(target_test)\n",
        "y_train[:4]"
      ],
      "metadata": {
        "execution": {
          "iopub.status.busy": "2021-09-17T11:26:38.02758Z",
          "iopub.execute_input": "2021-09-17T11:26:38.027959Z",
          "iopub.status.idle": "2021-09-17T11:26:38.038258Z",
          "shell.execute_reply.started": "2021-09-17T11:26:38.027923Z",
          "shell.execute_reply": "2021-09-17T11:26:38.03716Z"
        },
        "trusted": true,
        "id": "1PbPtMospyaS"
      },
      "outputs": [],
      "execution_count": null
    },
    {
      "cell_type": "markdown",
      "source": [
        "## Data Splicing\n",
        "This stage involves the data split into train & test sets. The training data will be used for training our model, and the testing data will be used to check the performance of model on unseen dataset. We're using a split of **80-20**, i.e., **80%** data to be used for training & **20%** to be used for testing purpose.  "
      ],
      "metadata": {
        "id": "_CXWYgCBpyaT"
      }
    },
    {
      "cell_type": "code",
      "source": [
        "# making train & test splits\n",
        "X_train = train_dataset.iloc[:, :-1].values\n",
        "X_test = data_test.iloc[:, :-1].values"
      ],
      "metadata": {
        "execution": {
          "iopub.status.busy": "2021-09-17T11:26:38.039768Z",
          "iopub.execute_input": "2021-09-17T11:26:38.040231Z",
          "iopub.status.idle": "2021-09-17T11:26:38.046578Z",
          "shell.execute_reply.started": "2021-09-17T11:26:38.040195Z",
          "shell.execute_reply": "2021-09-17T11:26:38.045813Z"
        },
        "trusted": true,
        "id": "kQWieKDhpyaT"
      },
      "outputs": [],
      "execution_count": null
    },
    {
      "cell_type": "code",
      "source": [
        "print(X_train.shape)\n",
        "print(X_test.shape)\n",
        "print(y_train.shape)\n",
        "print(y_test.shape)"
      ],
      "metadata": {
        "execution": {
          "iopub.status.busy": "2021-09-17T11:26:38.047916Z",
          "iopub.execute_input": "2021-09-17T11:26:38.048301Z",
          "iopub.status.idle": "2021-09-17T11:26:38.055273Z",
          "shell.execute_reply.started": "2021-09-17T11:26:38.048265Z",
          "shell.execute_reply": "2021-09-17T11:26:38.054169Z"
        },
        "trusted": true,
        "id": "S4jlYAmcpyaT"
      },
      "outputs": [],
      "execution_count": null
    },
    {
      "cell_type": "markdown",
      "source": [
        "## Applying the Model\n",
        "We are making use of following models to make our classification:\n",
        "* Random Forest Classification\n",
        "* Support Vector Machines (SVM)\n",
        "* Convolutional Neural Network (CNN)\n",
        "\n",
        "Steps:\n",
        "* We will instantiate the model\n",
        "* After intantiation, the model will be fit to training data\n",
        "* After then, the model will be tested on useen data to make predictions"
      ],
      "metadata": {
        "id": "lZRVCdHJpyaT"
      }
    },
    {
      "cell_type": "markdown",
      "source": [
        "## Convolutional Neural Network (CNN)\n",
        "We will apply the CNN algorithm to our data to generate prediction results.\n",
        "First, we need to reshape our data for CNN. We will use 1-dimensional CNN for our model, reshaping our data as per the dimensins of our CNN>  "
      ],
      "metadata": {
        "id": "6YvQIgN9pyaT"
      }
    },
    {
      "cell_type": "code",
      "source": [
        "X_train = X_train.reshape(len(X_train), X_train.shape[1], 1)\n",
        "X_test = X_test.reshape(len(X_test), X_test.shape[1], 1)\n",
        "X_train.shape, X_test.shape"
      ],
      "metadata": {
        "execution": {
          "iopub.status.busy": "2021-09-17T11:26:38.057001Z",
          "iopub.execute_input": "2021-09-17T11:26:38.057619Z",
          "iopub.status.idle": "2021-09-17T11:26:38.066025Z",
          "shell.execute_reply.started": "2021-09-17T11:26:38.057581Z",
          "shell.execute_reply": "2021-09-17T11:26:38.064944Z"
        },
        "trusted": true,
        "id": "w57Jx0MypyaT"
      },
      "outputs": [],
      "execution_count": null
    },
    {
      "cell_type": "code",
      "source": [
        "# making the deep learning function\n",
        "def model():\n",
        "    model = Sequential()\n",
        "    model.add(Conv1D(filters=64, kernel_size=6, activation='relu',\n",
        "                    padding='same', input_shape=(187, 1)))\n",
        "    model.add(BatchNormalization())\n",
        "\n",
        "    # adding a pooling layer\n",
        "    model.add(MaxPooling1D(pool_size=(3), strides=2, padding='same'))\n",
        "\n",
        "    model.add(Conv1D(filters=64, kernel_size=6, activation='relu',\n",
        "                    padding='same', input_shape=(187, 1)))\n",
        "    model.add(BatchNormalization())\n",
        "    model.add(MaxPooling1D(pool_size=(3), strides=2, padding='same'))\n",
        "\n",
        "    model.add(Conv1D(filters=64, kernel_size=6, activation='relu',\n",
        "                    padding='same', input_shape=(187, 1)))\n",
        "    model.add(BatchNormalization())\n",
        "    model.add(MaxPooling1D(pool_size=(3), strides=2, padding='same'))\n",
        "\n",
        "    model.add(Flatten())\n",
        "    model.add(Dense(64, activation='relu'))\n",
        "    model.add(Dense(64, activation='relu'))\n",
        "    model.add(Dense(5, activation='softmax'))\n",
        "\n",
        "    model.compile(loss='categorical_crossentropy', optimizer='adam', metrics=['accuracy'])\n",
        "    return model"
      ],
      "metadata": {
        "execution": {
          "iopub.status.busy": "2021-09-17T11:26:38.067519Z",
          "iopub.execute_input": "2021-09-17T11:26:38.067922Z",
          "iopub.status.idle": "2021-09-17T11:26:38.078197Z",
          "shell.execute_reply.started": "2021-09-17T11:26:38.067888Z",
          "shell.execute_reply": "2021-09-17T11:26:38.07736Z"
        },
        "trusted": true,
        "id": "SQXngJK1pyaU"
      },
      "outputs": [],
      "execution_count": null
    },
    {
      "cell_type": "code",
      "source": [
        "model = model()\n",
        "model.summary()"
      ],
      "metadata": {
        "execution": {
          "iopub.status.busy": "2021-09-17T11:26:38.079729Z",
          "iopub.execute_input": "2021-09-17T11:26:38.080159Z",
          "iopub.status.idle": "2021-09-17T11:26:40.197535Z",
          "shell.execute_reply.started": "2021-09-17T11:26:38.080126Z",
          "shell.execute_reply": "2021-09-17T11:26:40.19669Z"
        },
        "trusted": true,
        "id": "wQ-h4LqwpyaU"
      },
      "outputs": [],
      "execution_count": null
    },
    {
      "cell_type": "code",
      "source": [
        "logger = CSVLogger('logs.csv', append=True)\n",
        "his = model.fit(X_train, y_train, epochs=50, batch_size=32,\n",
        "          validation_data=(X_test, y_test), callbacks=[logger])"
      ],
      "metadata": {
        "execution": {
          "iopub.status.busy": "2021-09-17T11:26:40.199781Z",
          "iopub.execute_input": "2021-09-17T11:26:40.200241Z",
          "iopub.status.idle": "2021-09-17T11:38:55.784788Z",
          "shell.execute_reply.started": "2021-09-17T11:26:40.200202Z",
          "shell.execute_reply": "2021-09-17T11:38:55.783874Z"
        },
        "trusted": true,
        "id": "FMex-59BpyaU"
      },
      "outputs": [],
      "execution_count": null
    },
    {
      "cell_type": "code",
      "source": [
        "model.evaluate(X_test, y_test)"
      ],
      "metadata": {
        "execution": {
          "iopub.status.busy": "2021-09-17T11:41:48.197092Z",
          "iopub.execute_input": "2021-09-17T11:41:48.197436Z",
          "iopub.status.idle": "2021-09-17T11:41:49.961197Z",
          "shell.execute_reply.started": "2021-09-17T11:41:48.197403Z",
          "shell.execute_reply": "2021-09-17T11:41:49.960332Z"
        },
        "trusted": true,
        "id": "izwB1CkRpyaU"
      },
      "outputs": [],
      "execution_count": null
    },
    {
      "cell_type": "markdown",
      "source": [
        "## Graphical Visualization of Predictions"
      ],
      "metadata": {
        "id": "cgcgSfoHpyaU"
      }
    },
    {
      "cell_type": "code",
      "source": [
        "history = his.history\n",
        "history.keys()"
      ],
      "metadata": {
        "execution": {
          "iopub.status.busy": "2021-09-17T11:42:02.233676Z",
          "iopub.execute_input": "2021-09-17T11:42:02.234049Z",
          "iopub.status.idle": "2021-09-17T11:42:02.246356Z",
          "shell.execute_reply.started": "2021-09-17T11:42:02.234011Z",
          "shell.execute_reply": "2021-09-17T11:42:02.243734Z"
        },
        "trusted": true,
        "id": "NQyqgQKZpyaV"
      },
      "outputs": [],
      "execution_count": null
    },
    {
      "cell_type": "code",
      "source": [
        "epochs = range(1, len(history['loss']) + 1)\n",
        "acc = history['accuracy']\n",
        "loss = history['loss']\n",
        "val_acc = history['val_accuracy']\n",
        "val_loss = history['val_loss']\n",
        "\n",
        "plt.figure(figsize=(10, 5))\n",
        "plt.title('Training and Validation Accuracy')\n",
        "plt.xlabel('Epochs')\n",
        "plt.ylabel('Accuracy')\n",
        "plt.plot(epochs, acc, label='accuracy')\n",
        "plt.plot(epochs, val_acc, label='val_acc')\n",
        "plt.legend()\n",
        "\n",
        "plt.figure(figsize=(10, 5))\n",
        "plt.title('Training and Validation Loss')\n",
        "plt.xlabel('Epochs')\n",
        "plt.ylabel('Loss')\n",
        "plt.plot(epochs, loss, label='loss', color='g')\n",
        "plt.plot(epochs, val_loss, label='val_loss', color='r')\n",
        "plt.legend()"
      ],
      "metadata": {
        "execution": {
          "iopub.status.busy": "2021-09-17T11:43:01.416193Z",
          "iopub.execute_input": "2021-09-17T11:43:01.416525Z",
          "iopub.status.idle": "2021-09-17T11:43:01.924381Z",
          "shell.execute_reply.started": "2021-09-17T11:43:01.416494Z",
          "shell.execute_reply": "2021-09-17T11:43:01.923563Z"
        },
        "trusted": true,
        "id": "-ds_bwUOpyaV"
      },
      "outputs": [],
      "execution_count": null
    },
    {
      "cell_type": "code",
      "source": [
        "y_pred = model.predict(X_test)\n",
        "y_hat = np.argmax(y_pred, axis = 1)\n",
        "confusion_matrix(np.argmax(y_test, axis = 1), y_hat)"
      ],
      "metadata": {
        "execution": {
          "iopub.status.busy": "2021-09-17T11:43:10.468916Z",
          "iopub.execute_input": "2021-09-17T11:43:10.469304Z",
          "iopub.status.idle": "2021-09-17T11:43:11.492875Z",
          "shell.execute_reply.started": "2021-09-17T11:43:10.469272Z",
          "shell.execute_reply": "2021-09-17T11:43:11.492012Z"
        },
        "trusted": true,
        "id": "nGDN0mTtpyaV"
      },
      "outputs": [],
      "execution_count": null
    },
    {
      "cell_type": "code",
      "source": [
        "plt.figure(figsize=(10, 5))\n",
        "sns.heatmap(confusion_matrix(np.argmax(y_test, axis = 1), y_hat), annot=True, fmt='0.0f', cmap='RdPu')"
      ],
      "metadata": {
        "execution": {
          "iopub.status.busy": "2021-09-17T11:43:16.494485Z",
          "iopub.execute_input": "2021-09-17T11:43:16.494807Z",
          "iopub.status.idle": "2021-09-17T11:43:16.843111Z",
          "shell.execute_reply.started": "2021-09-17T11:43:16.494776Z",
          "shell.execute_reply": "2021-09-17T11:43:16.842316Z"
        },
        "trusted": true,
        "id": "oVyuqwQPpyaV"
      },
      "outputs": [],
      "execution_count": null
    },
    {
      "cell_type": "markdown",
      "source": [
        "### 1. Random Forest Classifier\n",
        "In this section, we use Random Forest Classifier to fit to our training dataset & predict results."
      ],
      "metadata": {
        "id": "c6gic2OhpyaV"
      }
    },
    {
      "cell_type": "code",
      "source": [
        "# instantiate the classifier and fit to training data\n",
        "start = time.time()\n",
        "\n",
        "rf = RandomForestClassifier()\n",
        "rf.fit(X_train, y_train)\n",
        "\n",
        "end = time.time()\n",
        "print('Time Taken: %.3f seconds' % (end-start))"
      ],
      "metadata": {
        "execution": {
          "iopub.status.busy": "2021-09-17T11:38:59.868338Z",
          "iopub.execute_input": "2021-09-17T11:38:59.8687Z",
          "iopub.status.idle": "2021-09-17T11:38:59.939002Z",
          "shell.execute_reply.started": "2021-09-17T11:38:59.868664Z",
          "shell.execute_reply": "2021-09-17T11:38:59.936731Z"
        },
        "trusted": true,
        "id": "6wkrBzPTpyaW"
      },
      "outputs": [],
      "execution_count": null
    },
    {
      "cell_type": "markdown",
      "source": [
        "The model has been successfully fit to our training data. Let's check its performance on test set."
      ],
      "metadata": {
        "id": "KdrdYajHpyaW"
      }
    },
    {
      "cell_type": "code",
      "source": [
        "# viewing params of random forest\n",
        "rf.get_params()"
      ],
      "metadata": {
        "execution": {
          "iopub.status.busy": "2021-09-17T11:38:59.940355Z",
          "iopub.status.idle": "2021-09-17T11:38:59.940942Z"
        },
        "trusted": true,
        "id": "3olXPQkppyaW"
      },
      "outputs": [],
      "execution_count": null
    },
    {
      "cell_type": "code",
      "source": [
        "# making predictions on test set\n",
        "start = time.time()\n",
        "\n",
        "y_pred = rf.predict(X_test)\n",
        "\n",
        "end = time.time()\n",
        "print('Time Taken: %.3f seconds' % (end-start))\n",
        "\n",
        "y_pred[:10]"
      ],
      "metadata": {
        "execution": {
          "iopub.status.busy": "2021-09-17T11:38:59.942491Z",
          "iopub.status.idle": "2021-09-17T11:38:59.943102Z"
        },
        "trusted": true,
        "id": "OqsCf9y8pyaW"
      },
      "outputs": [],
      "execution_count": null
    },
    {
      "cell_type": "code",
      "source": [
        "# check accuracy\n",
        "print('Accuracy on train data: %.4f' % rf.score(X_train, y_train))\n",
        "print('Accuracy on test data %.4f' % rf.score(X_test, y_test))"
      ],
      "metadata": {
        "execution": {
          "iopub.status.busy": "2021-09-17T11:38:59.944461Z",
          "iopub.status.idle": "2021-09-17T11:38:59.945069Z"
        },
        "trusted": true,
        "id": "-JuxUv-PpyaW"
      },
      "outputs": [],
      "execution_count": null
    },
    {
      "cell_type": "markdown",
      "source": [
        "### 2. Support Vector Machine (SVM)\n",
        "In this section, we'll fit SVM on our training dataset and check its performance on test data."
      ],
      "metadata": {
        "id": "KKRKJ_SXpyaX"
      }
    },
    {
      "cell_type": "code",
      "source": [
        "# instantiate ^ fit SVM to train data\n",
        "svc = SVC()\n",
        "svc.fit(X_train, y_train)"
      ],
      "metadata": {
        "execution": {
          "iopub.status.busy": "2021-09-17T11:38:59.946516Z",
          "iopub.status.idle": "2021-09-17T11:38:59.947103Z"
        },
        "trusted": true,
        "id": "KRgHsHUZpyaX"
      },
      "outputs": [],
      "execution_count": null
    },
    {
      "cell_type": "markdown",
      "source": [
        "Model has been successfully fit to train data"
      ],
      "metadata": {
        "id": "qYfwAxvypyaX"
      }
    },
    {
      "cell_type": "code",
      "source": [
        "# check parameters of SVM\n",
        "svc.get_params()"
      ],
      "metadata": {
        "execution": {
          "iopub.status.busy": "2021-09-17T11:38:59.948546Z",
          "iopub.status.idle": "2021-09-17T11:38:59.94917Z"
        },
        "trusted": true,
        "id": "sNywEztapyaX"
      },
      "outputs": [],
      "execution_count": null
    },
    {
      "cell_type": "code",
      "source": [
        "# predict on test set\n",
        "y_pred_svc = svc.predict(X_test)\n",
        "y_pred_svc[:5]"
      ],
      "metadata": {
        "execution": {
          "iopub.status.busy": "2021-09-17T11:38:59.950635Z",
          "iopub.status.idle": "2021-09-17T11:38:59.951241Z"
        },
        "trusted": true,
        "id": "zr_tcY2TpyaX"
      },
      "outputs": [],
      "execution_count": null
    },
    {
      "cell_type": "code",
      "source": [
        "# check accuracy of SVM\n",
        "print('Acc train %.4f' % svc.score(X_train, y_train))\n",
        "print('Acc test %.4f' % svc.score(X_test, y_test))"
      ],
      "metadata": {
        "execution": {
          "iopub.status.busy": "2021-09-17T11:38:59.952602Z",
          "iopub.status.idle": "2021-09-17T11:38:59.953191Z"
        },
        "trusted": true,
        "id": "ysZK2zzYpyaX"
      },
      "outputs": [],
      "execution_count": null
    },
    {
      "cell_type": "markdown",
      "source": [
        "As given, we are getting **92%** accuracy on training & **90%** accuracy on test dataset using **Support Vector Machines (SVM)**.  "
      ],
      "metadata": {
        "id": "WaO_1jFLpyaY"
      }
    },
    {
      "cell_type": "markdown",
      "source": [
        "## Prediction Results\n",
        "In this section, we'll visualize the results obtained by **SVM** & **Random Forest**. The results are:\n",
        "* Random Forest got an accuracy of **99%** on training data and **97%** on test data\n",
        "* SVM got an accuracy of **92%** on train data and **90%** on test data\n",
        "* We'll also plot confusion matrices of respective classifiers"
      ],
      "metadata": {
        "id": "L4vG1QtfpyaY"
      }
    },
    {
      "cell_type": "code",
      "source": [
        "acc_rf = rf.score(X_test, y_test)\n",
        "acc_svm = rf.score(X_test, y_test)\n",
        "classifiers = ['Random Forest', 'SVM']\n",
        "plt.title('Accuracy of SVM & Random Forest on Test Data')\n",
        "plt.ylabel('Accuracy')\n",
        "plt.bar(classifiers, [acc_rf, acc_svm])"
      ],
      "metadata": {
        "execution": {
          "iopub.status.busy": "2021-09-17T11:38:59.954569Z",
          "iopub.status.idle": "2021-09-17T11:38:59.955149Z"
        },
        "trusted": true,
        "id": "0f3kcIChpyaY"
      },
      "outputs": [],
      "execution_count": null
    },
    {
      "cell_type": "code",
      "source": [
        "# print classification report of SVM anf RF\n",
        "print('Classification Report of Random Forest:')\n",
        "print('')\n",
        "print(classification_report(y_test, y_pred))"
      ],
      "metadata": {
        "execution": {
          "iopub.status.busy": "2021-09-17T11:38:59.956866Z",
          "iopub.status.idle": "2021-09-17T11:38:59.957468Z"
        },
        "trusted": true,
        "id": "o1y3KzHYpyaZ"
      },
      "outputs": [],
      "execution_count": null
    },
    {
      "cell_type": "code",
      "source": [
        "# print classification report of SVM anf RF\n",
        "print('Classification Report of SVM:')\n",
        "print('')\n",
        "print(classification_report(y_test, y_pred_svc))"
      ],
      "metadata": {
        "execution": {
          "iopub.status.busy": "2021-09-17T11:38:59.9591Z",
          "iopub.status.idle": "2021-09-17T11:38:59.959778Z"
        },
        "trusted": true,
        "id": "a97j58x1pyaZ"
      },
      "outputs": [],
      "execution_count": null
    },
    {
      "cell_type": "markdown",
      "source": [
        "## Confusion Matrices\n",
        "Below are the confusion matrices obtained as a result of classification from Random Forest & SVM:"
      ],
      "metadata": {
        "id": "ejQhGPbgpyaZ"
      }
    },
    {
      "cell_type": "markdown",
      "source": [
        "### Confuion Matrix for Random Forest"
      ],
      "metadata": {
        "id": "UaiU18ucpyaZ"
      }
    },
    {
      "cell_type": "code",
      "source": [
        "# confusion matrix for Random Forest\n",
        "plot_confusion_matrix(rf, X_test, y_test)"
      ],
      "metadata": {
        "execution": {
          "iopub.status.busy": "2021-09-17T11:38:59.961126Z",
          "iopub.status.idle": "2021-09-17T11:38:59.961799Z"
        },
        "trusted": true,
        "id": "3aLuJ064pyaZ"
      },
      "outputs": [],
      "execution_count": null
    },
    {
      "cell_type": "markdown",
      "source": [
        "### Confuion Matrix for SVM"
      ],
      "metadata": {
        "id": "r99s0qT_pyaZ"
      }
    },
    {
      "cell_type": "code",
      "source": [
        "# confusion matrix for Random Forest\n",
        "plot_confusion_matrix(svc, X_test, y_test)"
      ],
      "metadata": {
        "execution": {
          "iopub.status.busy": "2021-09-17T11:38:59.963284Z",
          "iopub.status.idle": "2021-09-17T11:38:59.963942Z"
        },
        "trusted": true,
        "id": "ZMQO0xQTpyaa"
      },
      "outputs": [],
      "execution_count": null
    }
  ]
}